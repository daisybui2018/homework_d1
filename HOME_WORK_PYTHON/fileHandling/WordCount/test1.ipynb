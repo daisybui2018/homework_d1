{
 "cells": [
  {
   "cell_type": "code",
   "execution_count": 13,
   "source": [
    "import sys\r\n",
    " \r\n",
    "print (f\"So tham so: {len(sys.argv)} tham so.\")\r\n",
    "print (f\"Danh sach tham so: {str(sys.argv)}\")"
   ],
   "outputs": [
    {
     "output_type": "stream",
     "name": "stdout",
     "text": [
      "So tham so: 11 tham so.\n",
      "Danh sach tham so: ['C:\\\\Users\\\\cucbk\\\\AppData\\\\Local\\\\Programs\\\\Python\\\\Python37\\\\lib\\\\site-packages\\\\ipykernel_launcher.py', '--ip=127.0.0.1', '--stdin=9013', '--control=9011', '--hb=9010', '--Session.signature_scheme=\"hmac-sha256\"', '--Session.key=b\"0649eae3-cea9-44eb-a440-fa891deb3783\"', '--shell=9012', '--transport=\"tcp\"', '--iopub=9014', '--f=C:\\\\Users\\\\cucbk\\\\AppData\\\\Local\\\\Temp\\\\tmp-94640LusfYPS1q7Z.json']\n"
     ]
    }
   ],
   "metadata": {}
  },
  {
   "cell_type": "code",
   "execution_count": null,
   "source": [],
   "outputs": [],
   "metadata": {}
  }
 ],
 "metadata": {
  "orig_nbformat": 4,
  "language_info": {
   "name": "python",
   "version": "3.7.9",
   "mimetype": "text/x-python",
   "codemirror_mode": {
    "name": "ipython",
    "version": 3
   },
   "pygments_lexer": "ipython3",
   "nbconvert_exporter": "python",
   "file_extension": ".py"
  },
  "kernelspec": {
   "name": "python3",
   "display_name": "Python 3.7.9 64-bit"
  },
  "interpreter": {
   "hash": "822f41a96c29a00091fa96903e9bdcb552448f667845b3cbc04d4e55ab9869f3"
  }
 },
 "nbformat": 4,
 "nbformat_minor": 2
}