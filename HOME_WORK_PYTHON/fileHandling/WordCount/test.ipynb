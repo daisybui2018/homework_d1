{
 "cells": [
  {
   "cell_type": "code",
   "execution_count": 1,
   "source": [
    "# Suppose this is foo.py.\r\n",
    "\r\n",
    "print(\"before import\")\r\n",
    "import math\r\n",
    "\r\n",
    "print(\"before functionA\")\r\n",
    "def functionA():\r\n",
    "    print(\"Function A\")\r\n",
    "\r\n",
    "print(\"before functionB\")\r\n",
    "def functionB():\r\n",
    "    print(\"Function B {}\".format(math.sqrt(100)))\r\n",
    "\r\n",
    "print(\"before __name__ guard\")\r\n",
    "if __name__ == '__main__':\r\n",
    "    functionA()\r\n",
    "    functionB()\r\n",
    "print(\"after __name__ guard\")"
   ],
   "outputs": [
    {
     "output_type": "stream",
     "name": "stdout",
     "text": [
      "before import\n",
      "before functionA\n",
      "before functionB\n",
      "before __name__ guard\n",
      "Function A\n",
      "Function B 10.0\n",
      "after __name__ guard\n"
     ]
    }
   ],
   "metadata": {}
  }
 ],
 "metadata": {
  "orig_nbformat": 4,
  "language_info": {
   "name": "python",
   "version": "3.7.9",
   "mimetype": "text/x-python",
   "codemirror_mode": {
    "name": "ipython",
    "version": 3
   },
   "pygments_lexer": "ipython3",
   "nbconvert_exporter": "python",
   "file_extension": ".py"
  },
  "kernelspec": {
   "name": "python3",
   "display_name": "Python 3.7.9 64-bit"
  },
  "interpreter": {
   "hash": "822f41a96c29a00091fa96903e9bdcb552448f667845b3cbc04d4e55ab9869f3"
  }
 },
 "nbformat": 4,
 "nbformat_minor": 2
}