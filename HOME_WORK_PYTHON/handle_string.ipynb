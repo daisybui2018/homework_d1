{
 "cells": [
  {
   "cell_type": "code",
   "execution_count": 11,
   "source": [
    "# Cho 1 chuỗi A (vd: \"tHE fOX iS cOMING fOR tHE cHICKEN\"). \r\n",
    "# Viết hàm đảo ngược thứ tự các từ trong chuỗi và đổi tất cả các chữ cái từ hoa thành thường và ngược lại. \r\n",
    "# (kết quả là \"Chicken The For Coming Is Fox The\")\r\n",
    "def reserve_s(s):\r\n",
    "    words = s.split(\" \")\r\n",
    "    reserve_s = ' '.join(words[::-1])\r\n",
    "    return reserve_s\r\n",
    "\r\n",
    "s = \"tHE fOX iS cOMING fOR tHE cHICKEN\"\r\n",
    "reserve_s = reserve_s(s)\r\n",
    "print(reserve_s.swapcase())"
   ],
   "outputs": [
    {
     "output_type": "stream",
     "name": "stdout",
     "text": [
      "Chicken The For Coming Is Fox The\n"
     ]
    }
   ],
   "metadata": {}
  }
 ],
 "metadata": {
  "orig_nbformat": 4,
  "language_info": {
   "name": "python",
   "version": "3.7.9",
   "mimetype": "text/x-python",
   "codemirror_mode": {
    "name": "ipython",
    "version": 3
   },
   "pygments_lexer": "ipython3",
   "nbconvert_exporter": "python",
   "file_extension": ".py"
  },
  "kernelspec": {
   "name": "python3",
   "display_name": "Python 3.7.9 64-bit"
  },
  "interpreter": {
   "hash": "822f41a96c29a00091fa96903e9bdcb552448f667845b3cbc04d4e55ab9869f3"
  }
 },
 "nbformat": 4,
 "nbformat_minor": 2
}