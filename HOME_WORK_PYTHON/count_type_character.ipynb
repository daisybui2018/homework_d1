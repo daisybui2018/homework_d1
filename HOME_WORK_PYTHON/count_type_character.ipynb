{
 "cells": [
  {
   "cell_type": "code",
   "execution_count": null,
   "source": [
    "# Viết hàm có đầu vào là 1 chuỗi, trả ra số chữ cái, số ký tự viết hoa, số ký tự viết thường và số chữ số trong chuỗi đó.\r\n",
    "# Giả sử đầu vào sau được cấp cho hàm:\r\n",
    "\r\n",
    "# s = \"Hello World! 123\"\r\n",
    "\r\n",
    "# Hàm count_char_type(s) sẽ trả ra 1 dict {\"LETTERS\":10, \"CASE\": {\"UPPER CASE\":2, \"LOWER CASE\":8}, \"DIGITS\":3}. \r\n",
    "# Lưu ý: value của key \"CASE\" là một dict có 2 keys là \"UPPER CASE\", \"LOWER CASE\".\r\n",
    "\r\n",
    "# a) Viết hàm trên dùng bất kỳ hàm built in nào của python\r\n",
    "# b) Viết hàm chỉ dùng 1 hàm built in duy nhất."
   ],
   "outputs": [],
   "metadata": {}
  },
  {
   "cell_type": "code",
   "execution_count": 1,
   "source": [
    "str = \"Hello World! 123\"\r\n",
    "digit=letter=upper_case=lower_case=0\r\n",
    "for ch in str:\r\n",
    "   if ch.isdigit():\r\n",
    "      digit=digit+1\r\n",
    "   elif ch.isalpha():\r\n",
    "      letter=letter+1\r\n",
    "      if ch.isupper():\r\n",
    "          upper_case=upper_case+1\r\n",
    "      elif ch.islower():\r\n",
    "          lower_case=lower_case+1\r\n",
    "   else:\r\n",
    "      pass\r\n",
    "dict = {}\r\n",
    "dict_case = {}\r\n",
    "dict_case[\"UPPER CASE\"] = upper_case\r\n",
    "dict_case[\"LOWER CASE\"] = lower_case\r\n",
    "dict[\"LETTERS\"] = letter\r\n",
    "dict[\"CASE\"] = dict_case\r\n",
    "dict[\"DIGITS\"] = digit\r\n",
    "print(dict)\r\n"
   ],
   "outputs": [
    {
     "output_type": "stream",
     "name": "stdout",
     "text": [
      "{'LETTERS': 10, 'CASE': {'UPPER CASE': 2, 'LOWER CASE': 8}, 'DIGITS': 3}\n"
     ]
    }
   ],
   "metadata": {}
  },
  {
   "cell_type": "code",
   "execution_count": null,
   "source": [],
   "outputs": [],
   "metadata": {}
  }
 ],
 "metadata": {
  "orig_nbformat": 4,
  "language_info": {
   "name": "python",
   "version": "3.7.9",
   "mimetype": "text/x-python",
   "codemirror_mode": {
    "name": "ipython",
    "version": 3
   },
   "pygments_lexer": "ipython3",
   "nbconvert_exporter": "python",
   "file_extension": ".py"
  },
  "kernelspec": {
   "name": "python3",
   "display_name": "Python 3.7.9 64-bit"
  },
  "interpreter": {
   "hash": "822f41a96c29a00091fa96903e9bdcb552448f667845b3cbc04d4e55ab9869f3"
  }
 },
 "nbformat": 4,
 "nbformat_minor": 2
}