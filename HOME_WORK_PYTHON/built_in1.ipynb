{
 "cells": [
  {
   "cell_type": "code",
   "execution_count": 1,
   "source": [
    "#Bài 1:\r\n",
    "\"\"\" Cho list A chứa các số nguyên đã sắp xếp theo thứ tự tăng dần.\r\n",
    "Vd A = [3, 6, 7, 9, 11, 12] và một số nguyên sum. Tìm tất cả các cặp số (a,b) trong mảng A có tổng bằng sum\r\n",
    "vd ở đây nếu sum = 18 thì kết quả là [(7,11), (6,12)]. Nếu không có cặp số nào thỏa mãn thì in ra list rỗng [] \"\"\"\r\n",
    "\r\n",
    "list_A = [3, 6, 7, 9, 11, 12]\r\n",
    "list_result = []\r\n",
    "sum = int(input(\"Nhập tổng:\"))\r\n",
    "for a in list_A:\r\n",
    "    index_a = list_A.index(a)\r\n",
    "    list_temp = list_A[(index_a + 1):]\r\n",
    "    #print(list_temp)\r\n",
    "    for b in list_temp:\r\n",
    "        sum_temp = a + b\r\n",
    "        if (sum_temp == sum):\r\n",
    "            list_result.append((a,b))\r\n",
    "if len(list_result) == 0:   \r\n",
    "    print(\"Không có cặp số nào thỏa mãn.\")         \r\n",
    "else:\r\n",
    "    print(\"Các cặp số thỏa mãn là:\")\r\n",
    "    print(list_result)"
   ],
   "outputs": [
    {
     "output_type": "stream",
     "name": "stdout",
     "text": [
      "Các cặp số thỏa mãn là:\n",
      "[(6, 12), (7, 11)]\n"
     ]
    }
   ],
   "metadata": {}
  },
  {
   "cell_type": "code",
   "execution_count": 25,
   "source": [
    "\"\"\"Bài 2: \r\n",
    "Unique value Dictionary:\r\n",
    "Cho một list gồm 1 hoặc nhiều từ điển (Dictionary). Viết chương trình để trả ra tập hợp tất cả các giá trị (values) duy nhất trong\r\n",
    " tất cả danh sách các từ điển trên.\r\n",
    "[VD1]: Trường hợp dưới đây danh sách đầu vào có 1 từ điển map tên người vào tuổi của họ. Trả ra set các tuổi duy nhất.\r\n",
    "\r\n",
    "unique_value_dict([dict(Trang=38, Thu=38, Ngoc=27, Thanh=26, Yen=25, Hang=22, Thuy=22)]) == {22, 25, 26, 27, 38}\r\n",
    "[VD2]: Trường hợp dưới đây danh sách đầu vào có 7 dicts, mỗi dict chỉ có 1 cặp key-values. 5 giá trị trả về là duy nhất.\r\n",
    "\r\n",
    "unique_value_dict([{\"V\":\"S001\"}, {\"V\": \"S002\"}, {\"VI\": \"S001\"}, {\"VI\": \"S005\"}, {\"VII\":\"S005\"}, {\"V\":\"S009\"},\r\n",
    "{\"VIII\":\"S007\"}]) == {'S009', 'S007', 'S002', 'S001', 'S005'} \"\"\"\r\n",
    "\r\n",
    "unique_value_dict1 = {'Trang': 8 , 'Thu':38, 'Ngoc':27, 'Thanh':26, 'Yen':25, 'Hang':22, 'Thuy':22}\r\n",
    "set_result1 = set(unique_value_dict1.values())\r\n",
    "print(set_result1)\r\n",
    "\r\n",
    "unique_value_dict2 = [{\"V\":\"S001\"}, {\"V\": \"S002\"}, {\"VI\": \"S001\"}, {\"VI\": \"S005\"}, {\"VII\":\"S005\"}, {\"V\":\"S009\"},{\"VIII\":\"S007\"}]\r\n",
    "list_values = []\r\n",
    "for item in unique_value_dict2:\r\n",
    "    list_values.extend(item.values())\r\n",
    "list_values.sort(reverse=True)\r\n",
    "print(list_values)\r\n",
    "print(set(list_values))"
   ],
   "outputs": [
    {
     "output_type": "stream",
     "name": "stdout",
     "text": [
      "['S009', 'S007', 'S005', 'S005', 'S002', 'S001', 'S001']\n",
      "{'S007', 'S005', 'S009', 'S002', 'S001'}\n"
     ]
    }
   ],
   "metadata": {}
  },
  {
   "cell_type": "code",
   "execution_count": 56,
   "source": [
    "#Bài 3:\r\n",
    "\"\"\" Viết chương trình in ra thời gian đếm ngược đến XMas 2021 sau mỗi khoảng thời gian nhất định.\r\n",
    "\r\n",
    "vd in ra sau mỗi 5s:\r\n",
    "Countdown to Xmas 2021: 112 days, 11:47:01.339588\r\n",
    "Countdown to Xmas 2021: 112 days, 11:46:56.324008\r\n",
    "Countdown to Xmas 2021: 112 days, 11:46:51.310473 \"\"\"\r\n",
    "import time \r\n",
    "import datetime\r\n",
    "from datetime import date\r\n",
    "\r\n",
    "# convert miliseconds to day, hour, minutes and seconds\r\n",
    "def convert_from_ms(time):\r\n",
    "    days = time // (24 * 3600)\r\n",
    "    time = time % (24 * 3600)\r\n",
    "    hours = time // 3600\r\n",
    "    time %= 3600\r\n",
    "    minutes = time // 60\r\n",
    "    time %= 60\r\n",
    "    seconds = time\r\n",
    "    return days, hours, minutes, seconds\r\n",
    "\r\n",
    "def get_current_xmas(this_year):\r\n",
    "    tmp = \"25.12.\" + this_year + \" 0:0:0\"\r\n",
    "    xmas_timestamp = time.mktime(datetime.datetime.strptime(tmp,\"%d.%m.%Y %H:%M:%S\").timetuple()) * 1000\r\n",
    "    return xmas_timestamp\r\n",
    "\r\n",
    "def print_count_down(this_year,current_milli_time, xmas_timestamp):\r\n",
    "    delta = xmas_timestamp - current_milli_time\r\n",
    "    delta_second = delta // 1000 \r\n",
    "    miliseconds = delta % 1000\r\n",
    "    days, hours, minutes, seconds = convert_from_ms(delta_second)\r\n",
    "    print(f\"Countdown to Xmas {this_year}: Days:{days}, Hours:{hours}, Minutes:{minutes}, Seconds:{seconds}\")\r\n",
    "\r\n",
    "#################################\r\n",
    "todays_date = date.today()\r\n",
    "this_year = str(todays_date.year)\r\n",
    "current_milli_time = int(time.time()*1000.0)\r\n",
    "xmas_timestamp = get_current_xmas(this_year)\r\n",
    "while current_milli_time < xmas_timestamp:\r\n",
    "    print_count_down(this_year,current_milli_time, xmas_timestamp)\r\n",
    "    time.sleep(5)\r\n",
    "    current_milli_time = int(time.time()*1000.0)"
   ],
   "outputs": [
    {
     "output_type": "stream",
     "name": "stdout",
     "text": [
      "Countdown to Xmas 2021: Days:110.0, Hours:8.0, Minutes:25.0, Seconds:31.0\n",
      "Countdown to Xmas 2021: Days:110.0, Hours:8.0, Minutes:25.0, Seconds:26.0\n",
      "Countdown to Xmas 2021: Days:110.0, Hours:8.0, Minutes:25.0, Seconds:21.0\n",
      "Countdown to Xmas 2021: Days:110.0, Hours:8.0, Minutes:25.0, Seconds:16.0\n"
     ]
    },
    {
     "output_type": "error",
     "ename": "KeyboardInterrupt",
     "evalue": "",
     "traceback": [
      "\u001b[1;31m---------------------------------------------------------------------------\u001b[0m",
      "\u001b[1;31mKeyboardInterrupt\u001b[0m                         Traceback (most recent call last)",
      "\u001b[1;32m~\\AppData\\Local\\Temp/ipykernel_16240/2286052826.py\u001b[0m in \u001b[0;36m<module>\u001b[1;34m\u001b[0m\n\u001b[0;32m     40\u001b[0m \u001b[1;32mwhile\u001b[0m \u001b[0mcurrent_milli_time\u001b[0m \u001b[1;33m<\u001b[0m \u001b[0mxmas_timestamp\u001b[0m\u001b[1;33m:\u001b[0m\u001b[1;33m\u001b[0m\u001b[1;33m\u001b[0m\u001b[0m\n\u001b[0;32m     41\u001b[0m     \u001b[0mprint_count_down\u001b[0m\u001b[1;33m(\u001b[0m\u001b[0mthis_year\u001b[0m\u001b[1;33m,\u001b[0m\u001b[0mcurrent_milli_time\u001b[0m\u001b[1;33m,\u001b[0m \u001b[0mxmas_timestamp\u001b[0m\u001b[1;33m)\u001b[0m\u001b[1;33m\u001b[0m\u001b[1;33m\u001b[0m\u001b[0m\n\u001b[1;32m---> 42\u001b[1;33m     \u001b[0mtime\u001b[0m\u001b[1;33m.\u001b[0m\u001b[0msleep\u001b[0m\u001b[1;33m(\u001b[0m\u001b[1;36m5\u001b[0m\u001b[1;33m)\u001b[0m\u001b[1;33m\u001b[0m\u001b[1;33m\u001b[0m\u001b[0m\n\u001b[0m\u001b[0;32m     43\u001b[0m     \u001b[0mcurrent_milli_time\u001b[0m \u001b[1;33m=\u001b[0m \u001b[0mint\u001b[0m\u001b[1;33m(\u001b[0m\u001b[0mtime\u001b[0m\u001b[1;33m.\u001b[0m\u001b[0mtime\u001b[0m\u001b[1;33m(\u001b[0m\u001b[1;33m)\u001b[0m\u001b[1;33m*\u001b[0m\u001b[1;36m1000.0\u001b[0m\u001b[1;33m)\u001b[0m\u001b[1;33m\u001b[0m\u001b[1;33m\u001b[0m\u001b[0m\n\u001b[0;32m     44\u001b[0m \u001b[1;33m\u001b[0m\u001b[0m\n",
      "\u001b[1;31mKeyboardInterrupt\u001b[0m: "
     ]
    }
   ],
   "metadata": {}
  },
  {
   "cell_type": "code",
   "execution_count": 58,
   "source": [
    "#Bài 4:\r\n",
    "\"\"\" Viết chương trình trả ra từ điển với key là các số trong list, value là số lần xuất hiện của số trong list\r\n",
    "my_list = [10, 21, 21, 40, 40, 52, 52, 1, 1, 2, 2, 2, 2, 11, 11, 11, 11, 25, 24, 24, 60, 40]\r\n",
    "Trả ra\r\n",
    "{10: 1, 21: 2, 40: 3, 52: 2, 1: 2, 2: 4, 11: 4, 25: 1, 24: 2, 60: 1} \"\"\"\r\n",
    "\r\n",
    "my_list = [10, 21, 21, 40, 40, 52, 52, 1, 1, 2, 2, 2, 2, 11, 11, 11, 11, 25, 24, 24, 60, 40]\r\n",
    "my_dict = {i:my_list.count(i) for i in my_list}\r\n",
    "print(my_dict)"
   ],
   "outputs": [
    {
     "output_type": "stream",
     "name": "stdout",
     "text": [
      "{10: 1, 21: 2, 40: 3, 52: 2, 1: 2, 2: 4, 11: 4, 25: 1, 24: 2, 60: 1}\n"
     ]
    }
   ],
   "metadata": {}
  },
  {
   "cell_type": "code",
   "execution_count": 73,
   "source": [
    "#Bài 5:\r\n",
    "\"\"\" Print Star\r\n",
    "Hãy viết chương trình in ra các hình sau (dùng ký tự '*' và ký tự space) với n là số dòng. Vd: n = 4: \"\"\"\r\n",
    "\r\n",
    "#Hình 1\r\n",
    "n = int(input(\"Nhập n:\"))\r\n",
    "n += 1\r\n",
    "for i in range(1,n):\r\n",
    "    for j in range (1,n-i):\r\n",
    "        print(\"  \", end='')\r\n",
    "    for k in range (n-i,n):\r\n",
    "        print(\"* \", end='')\r\n",
    "    print (\"\\n\")"
   ],
   "outputs": [
    {
     "output_type": "stream",
     "name": "stdout",
     "text": [
      "                  * \n",
      "\n",
      "                * * \n",
      "\n",
      "              * * * \n",
      "\n",
      "            * * * * \n",
      "\n",
      "          * * * * * \n",
      "\n",
      "        * * * * * * \n",
      "\n",
      "      * * * * * * * \n",
      "\n",
      "    * * * * * * * * \n",
      "\n",
      "  * * * * * * * * * \n",
      "\n",
      "* * * * * * * * * * \n",
      "\n"
     ]
    }
   ],
   "metadata": {}
  },
  {
   "cell_type": "code",
   "execution_count": 80,
   "source": [
    "#Bài 5:\r\n",
    "\"\"\" Print Star\r\n",
    "Hãy viết chương trình in ra các hình sau (dùng ký tự '*' và ký tự space) với n là số dòng. Vd: n = 4: \"\"\"\r\n",
    "\r\n",
    "#Hình 2\r\n",
    "n = int(input(\"Nhập n:\"))\r\n",
    "n += 1\r\n",
    "for i in range(1,n-1):\r\n",
    "    for j in range (1,n-i):\r\n",
    "        print(\"  \", end='')\r\n",
    "    for k in range (n-i,n):\r\n",
    "        print(\"* \", end='')\r\n",
    "    print (\"\\n\")\r\n",
    "for i in range (1, (n-1)*2):\r\n",
    "    print(\"* \", end='')\r\n",
    "print (\"\\n\")\r\n",
    "for i in range(1,n-1):\r\n",
    "    for x in range (1,n-1):\r\n",
    "        print(\"  \", end='')\r\n",
    "    for j in range (1,n-i):\r\n",
    "        print(\"* \", end='')\r\n",
    "    for k in range (n-i,n):\r\n",
    "        print(\"  \", end='')\r\n",
    "    print (\"\\n\")"
   ],
   "outputs": [
    {
     "output_type": "stream",
     "name": "stdout",
     "text": [
      "                  * \n",
      "\n",
      "                * * \n",
      "\n",
      "              * * * \n",
      "\n",
      "            * * * * \n",
      "\n",
      "          * * * * * \n",
      "\n",
      "        * * * * * * \n",
      "\n",
      "      * * * * * * * \n",
      "\n",
      "    * * * * * * * * \n",
      "\n",
      "  * * * * * * * * * \n",
      "\n",
      "* * * * * * * * * * * * * * * * * * * \n",
      "\n",
      "                  * * * * * * * * *   \n",
      "\n",
      "                  * * * * * * * *     \n",
      "\n",
      "                  * * * * * * *       \n",
      "\n",
      "                  * * * * * *         \n",
      "\n",
      "                  * * * * *           \n",
      "\n",
      "                  * * * *             \n",
      "\n",
      "                  * * *               \n",
      "\n",
      "                  * *                 \n",
      "\n",
      "                  *                   \n",
      "\n"
     ]
    }
   ],
   "metadata": {}
  },
  {
   "cell_type": "code",
   "execution_count": null,
   "source": [],
   "outputs": [],
   "metadata": {}
  },
  {
   "cell_type": "code",
   "execution_count": 63,
   "source": [
    "#Test\r\n",
    "current_milli_time = datetime.datetime.now()\r\n",
    "print(current_milli_time)\r\n",
    "xmas_timestamp = get_current_xmas(this_year)\r\n",
    "while current_milli_time < xmas_timestamp:\r\n",
    "    print_count_down(this_year,current_milli_time, xmas_timestamp)\r\n",
    "    time.sleep(5)\r\n",
    "    current_milli_time = int(time.time()*1000.0)"
   ],
   "outputs": [
    {
     "output_type": "stream",
     "name": "stdout",
     "text": [
      "2021-09-05 16:29:05.169248\n"
     ]
    },
    {
     "output_type": "error",
     "ename": "TypeError",
     "evalue": "'<' not supported between instances of 'datetime.datetime' and 'float'",
     "traceback": [
      "\u001b[1;31m---------------------------------------------------------------------------\u001b[0m",
      "\u001b[1;31mTypeError\u001b[0m                                 Traceback (most recent call last)",
      "\u001b[1;32m~\\AppData\\Local\\Temp/ipykernel_16240/329286583.py\u001b[0m in \u001b[0;36m<module>\u001b[1;34m\u001b[0m\n\u001b[0;32m      2\u001b[0m \u001b[0mprint\u001b[0m\u001b[1;33m(\u001b[0m\u001b[0mcurrent_milli_time\u001b[0m\u001b[1;33m)\u001b[0m\u001b[1;33m\u001b[0m\u001b[1;33m\u001b[0m\u001b[0m\n\u001b[0;32m      3\u001b[0m \u001b[0mxmas_timestamp\u001b[0m \u001b[1;33m=\u001b[0m \u001b[0mget_current_xmas\u001b[0m\u001b[1;33m(\u001b[0m\u001b[0mthis_year\u001b[0m\u001b[1;33m)\u001b[0m\u001b[1;33m\u001b[0m\u001b[1;33m\u001b[0m\u001b[0m\n\u001b[1;32m----> 4\u001b[1;33m \u001b[1;32mwhile\u001b[0m \u001b[0mcurrent_milli_time\u001b[0m \u001b[1;33m<\u001b[0m \u001b[0mxmas_timestamp\u001b[0m\u001b[1;33m:\u001b[0m\u001b[1;33m\u001b[0m\u001b[1;33m\u001b[0m\u001b[0m\n\u001b[0m\u001b[0;32m      5\u001b[0m     \u001b[0mprint_count_down\u001b[0m\u001b[1;33m(\u001b[0m\u001b[0mthis_year\u001b[0m\u001b[1;33m,\u001b[0m\u001b[0mcurrent_milli_time\u001b[0m\u001b[1;33m,\u001b[0m \u001b[0mxmas_timestamp\u001b[0m\u001b[1;33m)\u001b[0m\u001b[1;33m\u001b[0m\u001b[1;33m\u001b[0m\u001b[0m\n\u001b[0;32m      6\u001b[0m     \u001b[0mtime\u001b[0m\u001b[1;33m.\u001b[0m\u001b[0msleep\u001b[0m\u001b[1;33m(\u001b[0m\u001b[1;36m5\u001b[0m\u001b[1;33m)\u001b[0m\u001b[1;33m\u001b[0m\u001b[1;33m\u001b[0m\u001b[0m\n",
      "\u001b[1;31mTypeError\u001b[0m: '<' not supported between instances of 'datetime.datetime' and 'float'"
     ]
    }
   ],
   "metadata": {}
  }
 ],
 "metadata": {
  "orig_nbformat": 4,
  "language_info": {
   "name": "python",
   "version": "3.7.9",
   "mimetype": "text/x-python",
   "codemirror_mode": {
    "name": "ipython",
    "version": 3
   },
   "pygments_lexer": "ipython3",
   "nbconvert_exporter": "python",
   "file_extension": ".py"
  },
  "kernelspec": {
   "name": "python3",
   "display_name": "Python 3.7.9 64-bit"
  },
  "interpreter": {
   "hash": "822f41a96c29a00091fa96903e9bdcb552448f667845b3cbc04d4e55ab9869f3"
  }
 },
 "nbformat": 4,
 "nbformat_minor": 2
}