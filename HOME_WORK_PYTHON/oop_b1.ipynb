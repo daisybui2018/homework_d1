{
 "cells": [
  {
   "cell_type": "code",
   "execution_count": 3,
   "source": [
    "class BankAccount:\r\n",
    "    #Magic methods\r\n",
    "    def __init__(self, account_number, account_name, balance=0):\r\n",
    "        self._account_number = account_number\r\n",
    "        self._account_name = account_name\r\n",
    "        self.set_balance(balance)\r\n",
    "    def set_balance(self, balance):\r\n",
    "        if balance >= 0:\r\n",
    "            self._balance = balance\r\n",
    "        else:\r\n",
    "            print(\"Balance cần >=0.\")\r\n",
    "    def get_account_number(self):\r\n",
    "        return self._account_number\r\n",
    "    def get_account_name(self):\r\n",
    "        return self._account_name\r\n",
    "    def get_balance(self):\r\n",
    "        return self._balance\r\n",
    "    def display(self):\r\n",
    "        print(f\"Thong tin tai khoan: {self.get_account_number()} {self.get_account_name()} {self.get_balance()}\")\r\n",
    "    def withdraw(self, amount):\r\n",
    "        if 0 < amount < self.get_balance():\r\n",
    "            self.set_balance(self.get_balance()- amount)\r\n",
    "        else:\r\n",
    "            print (\"Số tiền cần rút không hợp lệ\")\r\n",
    "    def deposit(self, amount):\r\n",
    "        if amount > 0 :\r\n",
    "            self.set_balance(self.get_balance()+ amount)\r\n",
    "        else:\r\n",
    "            print (\"Số tiền cần nạp không hợp lệ\")\r\n",
    "\r\n",
    "cucbk = BankAccount(2343546, \"Bui Kim Cuc\", 200000)\r\n",
    "cucbk.deposit(-1000000)\r\n",
    "cucbk.withdraw(150000)\r\n",
    "cucbk.display()"
   ],
   "outputs": [
    {
     "output_type": "stream",
     "name": "stdout",
     "text": [
      "Số tiền cần nạp không hợp lệ\n",
      "Thong tin tai khoan: 2343546 Bui Kim Cuc 50000\n"
     ]
    }
   ],
   "metadata": {}
  }
 ],
 "metadata": {
  "orig_nbformat": 4,
  "language_info": {
   "name": "python",
   "version": "3.7.9",
   "mimetype": "text/x-python",
   "codemirror_mode": {
    "name": "ipython",
    "version": 3
   },
   "pygments_lexer": "ipython3",
   "nbconvert_exporter": "python",
   "file_extension": ".py"
  },
  "kernelspec": {
   "name": "python3",
   "display_name": "Python 3.7.9 64-bit"
  },
  "interpreter": {
   "hash": "822f41a96c29a00091fa96903e9bdcb552448f667845b3cbc04d4e55ab9869f3"
  }
 },
 "nbformat": 4,
 "nbformat_minor": 2
}