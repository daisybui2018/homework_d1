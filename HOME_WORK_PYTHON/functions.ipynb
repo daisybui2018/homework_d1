{
 "cells": [
  {
   "cell_type": "code",
   "execution_count": null,
   "source": [
    "#Bài 1:\r\n",
    "# Cho một list A các điểm thi (từ 0-10) của các học viên trong lớp. Viết 3 hàm tính:\r\n",
    "\r\n",
    "# giá trị trung bình (mean) của dãy.\r\n",
    "# trung vị (median) của dãy A. trung vị là một số đứng ở vị trí giữa trong dãy số đã được sắp xếp theo thứ tự tăng dần, median chia dãy số cho trước thành 2 nửa bằng nhau. Nếu độ dài của dãy số là số lẻ, thì số ở giữa là median, nếu chiều dài của dãy số là số chẵn thì median được xác định bằng cách lấy trung bình của hai số ở giữa.\r\n",
    "# mode của dãy A. Mode là phần tử có số lần xuất hiện nhiều nhất trong dãy. Mode sẽ giúp ta trả lời câu hỏi: \"Trong lớp này, học viên đạt Điểm số nào nhiều nhất?\".\r\n",
    "# Lưu ý: kết quả trả ra sẽ là 1 list vì mode có thể nhiều hơn 1 giá trị.\r\n",
    "\r\n",
    "# Vd:\r\n",
    "\r\n",
    "# A = [7, 8, 9, 2, 10, 9, 9, 9, 9, 4, 5, 6, 1, 5, 6, 7, 8, 6, 1, 10] ==> (mean(A), median(A), mode(A)) == (6.55, 7.0, [9])\r\n",
    "# B=[4,4,5,4,5,5] thì (mean(B), median(B), mode(B)) == (4.5, 4.5, [4,5])"
   ],
   "outputs": [],
   "metadata": {}
  },
  {
   "cell_type": "code",
   "execution_count": 76,
   "source": [
    "#Lời giải Bài 1\r\n",
    "def calculate_mean(list_mark):\r\n",
    "    sum_mark = sum(list_mark)\r\n",
    "    len_mark = len(list_mark)\r\n",
    "    mean = sum_mark / len_mark\r\n",
    "    return mean\r\n",
    "\r\n",
    "def calculate_median(list_mark):\r\n",
    "    list_mark.sort()\r\n",
    "    len_mark = len(list_mark)\r\n",
    "    if len_mark % 2 == 0:\r\n",
    "        x = int(len_mark/2)\r\n",
    "        median = (list_mark[x-1] + list_mark[x]) / 2\r\n",
    "    else:\r\n",
    "        x = int((len_mark + 1)/2)\r\n",
    "        median = list_mark[x-1]\r\n",
    "    return median\r\n",
    "\r\n",
    "def calculate_mode(list_mark):\r\n",
    "    set_mark = set(list_mark)\r\n",
    "    dict_count_mark = {}\r\n",
    "    for i in set_mark:\r\n",
    "        number = list_mark.count(i)\r\n",
    "        dict_count_mark.update({i:number})\r\n",
    "    list_temp = sorted(dict_count_mark.items(), key = lambda kv:(kv[1], kv[0]))\r\n",
    "    list_mode = [list_temp[-1][0]]\r\n",
    "    i = -1\r\n",
    "    while (abs(i) < len(list_temp)):\r\n",
    "        if(list_temp[-1][1] == list_temp[i-1][1]):\r\n",
    "            list_mode.append(list_temp[i-1][0])\r\n",
    "        i -= 1\r\n",
    "    return list_mode\r\n",
    "\r\n",
    "list_mark1 = [7, 8, 9, 2, 10, 9, 9, 9, 9, 4, 5, 6, 1, 5, 6, 7, 8, 6, 1, 10]\r\n",
    "list_mark2=[4,4,5,4,5,5]\r\n",
    "mean = calculate_mean(list_mark1)\r\n",
    "median = calculate_median(list_mark1)\r\n",
    "mode = calculate_mode(list_mark1)\r\n",
    "result1 = []\r\n",
    "result1.append(mean)\r\n",
    "result1.append(median)\r\n",
    "result1.append(mode)\r\n",
    "print(\"mean(A), median(A), mode(A)) == \", end='')\r\n",
    "print(result1)\r\n",
    "\r\n",
    "mean2 = calculate_mean(list_mark2)\r\n",
    "median2 = calculate_median(list_mark2)\r\n",
    "mode2 = calculate_mode(list_mark2)\r\n",
    "result2 = []\r\n",
    "result2.append(mean2)\r\n",
    "result2.append(median2)\r\n",
    "result2.append(mode2)\r\n",
    "print(\"mean(A), median(A), mode(A)) == \", end='')\r\n",
    "print(tuple(result2))"
   ],
   "outputs": [
    {
     "output_type": "stream",
     "name": "stdout",
     "text": [
      "mean(A), median(A), mode(A)) == [6.55, 7.0, [9]]\n",
      "mean(A), median(A), mode(A)) == (4.5, 4.5, [5, 4])\n"
     ]
    }
   ],
   "metadata": {}
  }
 ],
 "metadata": {
  "orig_nbformat": 4,
  "language_info": {
   "name": "python",
   "version": "3.7.9",
   "mimetype": "text/x-python",
   "codemirror_mode": {
    "name": "ipython",
    "version": 3
   },
   "pygments_lexer": "ipython3",
   "nbconvert_exporter": "python",
   "file_extension": ".py"
  },
  "kernelspec": {
   "name": "python3",
   "display_name": "Python 3.7.9 64-bit"
  },
  "interpreter": {
   "hash": "822f41a96c29a00091fa96903e9bdcb552448f667845b3cbc04d4e55ab9869f3"
  }
 },
 "nbformat": 4,
 "nbformat_minor": 2
}