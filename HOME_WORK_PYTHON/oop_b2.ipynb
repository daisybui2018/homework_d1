{
 "cells": [
  {
   "cell_type": "code",
   "execution_count": 15,
   "source": [
    "import json\r\n",
    "import os\r\n",
    "import sys\r\n",
    "\r\n",
    "json_file = \"bank_accounts.json\"\r\n",
    "\r\n",
    "class BankAccount:\r\n",
    "    #Magic methods\r\n",
    "    def __init__(self, account_number, account_name, balance=0):\r\n",
    "        self._account_number = account_number\r\n",
    "        self._account_name = account_name\r\n",
    "        self.set_balance(balance)\r\n",
    "    def set_balance(self, balance):\r\n",
    "        if balance >= 0:\r\n",
    "            self._balance = balance\r\n",
    "        else:\r\n",
    "            print(\"Balance cần >=0.\")\r\n",
    "    def get_account_number(self):\r\n",
    "        return self._account_number\r\n",
    "    def get_account_name(self):\r\n",
    "        return self._account_name\r\n",
    "    def get_balance(self):\r\n",
    "        return self._balance\r\n",
    "    def display(self):\r\n",
    "        print(f\"Thong tin tai khoan: {self.get_account_number()} {self.get_account_name()} {self.get_balance()}\")\r\n",
    "    def withdraw(self, amount):\r\n",
    "        if 0 < amount < self.get_balance():\r\n",
    "            self.set_balance(self.get_balance()- amount)\r\n",
    "        else:\r\n",
    "            print (\"Số tiền cần rút không hợp lệ\")\r\n",
    "    def deposit(self, amount):\r\n",
    "        if amount > 0 :\r\n",
    "            self.set_balance(self.get_balance()+ amount)\r\n",
    "        else:\r\n",
    "            print (\"Số tiền cần nạp không hợp lệ\")\r\n",
    "    @classmethod\r\n",
    "    def from_json(cls, json_file):\r\n",
    "        accounts = []\r\n",
    "        with open(json_file) as file:\r\n",
    "            reader = json.load(file)\r\n",
    "            for object in reader:\r\n",
    "                accounts.append(cls(object['account_number'], object['account_name'], int(object['balance'])))\r\n",
    "        return accounts \r\n",
    "    def __repr__(self):\r\n",
    "        return f\"Thong tin tai khoan: {self.get_account_number()} {self.get_account_name()} {self.get_balance()}\"\r\n",
    "\r\n",
    "json_accounts = BankAccount.from_json(json_file)\r\n",
    "for account in json_accounts:\r\n",
    "    print(account)"
   ],
   "outputs": [
    {
     "output_type": "stream",
     "name": "stdout",
     "text": [
      "Thong tin tai khoan: 1 Ba Nguyá»…n 1000000000\n",
      "Thong tin tai khoan: 2 BÃ©o Ãš 2000000000\n"
     ]
    }
   ],
   "metadata": {}
  }
 ],
 "metadata": {
  "orig_nbformat": 4,
  "language_info": {
   "name": "python",
   "version": "3.7.9",
   "mimetype": "text/x-python",
   "codemirror_mode": {
    "name": "ipython",
    "version": 3
   },
   "pygments_lexer": "ipython3",
   "nbconvert_exporter": "python",
   "file_extension": ".py"
  },
  "kernelspec": {
   "name": "python3",
   "display_name": "Python 3.7.9 64-bit"
  },
  "interpreter": {
   "hash": "822f41a96c29a00091fa96903e9bdcb552448f667845b3cbc04d4e55ab9869f3"
  }
 },
 "nbformat": 4,
 "nbformat_minor": 2
}